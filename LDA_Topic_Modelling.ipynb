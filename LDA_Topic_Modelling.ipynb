{
  "nbformat": 4,
  "nbformat_minor": 0,
  "metadata": {
    "colab": {
      "provenance": [],
      "authorship_tag": "ABX9TyMR2X7FN9qRveJtj4nwpRX7",
      "include_colab_link": true
    },
    "kernelspec": {
      "name": "python3",
      "display_name": "Python 3"
    },
    "language_info": {
      "name": "python"
    }
  },
  "cells": [
    {
      "cell_type": "markdown",
      "metadata": {
        "id": "view-in-github",
        "colab_type": "text"
      },
      "source": [
        "<a href=\"https://colab.research.google.com/github/devanganaB/LDA-Topic-modelling/blob/main/LDA_Topic_Modelling.ipynb\" target=\"_parent\"><img src=\"https://colab.research.google.com/assets/colab-badge.svg\" alt=\"Open In Colab\"/></a>"
      ]
    },
    {
      "cell_type": "code",
      "execution_count": null,
      "metadata": {
        "id": "as8wnjjDLRup"
      },
      "outputs": [],
      "source": [
        "documents = [\n",
        "    \"The quick brown fox jumps over the lazy dog.\",\n",
        "    \"The apple fell from the tree.\",\n",
        "    \"I love to eat pizza.\",\n",
        "    \"The cat is sitting on the mat.\",\n",
        "    \"The sun is shining brightly.\",\n",
        "    \"The bird is singing a beautiful song.\",\n",
        "    \"The flower is blooming in the garden.\",\n",
        "    \"The book is very interesting.\",\n",
        "    \"The movie was very scary.\",\n",
        "    \"I am going to the beach tomorrow.\"\n",
        "]"
      ]
    },
    {
      "cell_type": "code",
      "source": [
        "documents"
      ],
      "metadata": {
        "colab": {
          "base_uri": "https://localhost:8080/"
        },
        "id": "6O8sgCg8NtBw",
        "outputId": "8acae699-d772-44c2-ca5f-e44b35b7bbf4"
      },
      "execution_count": null,
      "outputs": [
        {
          "output_type": "execute_result",
          "data": {
            "text/plain": [
              "['The quick brown fox jumps over the lazy dog.',\n",
              " 'The apple fell from the tree.',\n",
              " 'I love to eat pizza.',\n",
              " 'The cat is sitting on the mat.',\n",
              " 'The sun is shining brightly.',\n",
              " 'The bird is singing a beautiful song.',\n",
              " 'The flower is blooming in the garden.',\n",
              " 'The book is very interesting.',\n",
              " 'The movie was very scary.',\n",
              " 'I am going to the beach tomorrow.']"
            ]
          },
          "metadata": {},
          "execution_count": 2
        }
      ]
    },
    {
      "cell_type": "code",
      "source": [
        "import re\n",
        "from sklearn.feature_extraction.text import ENGLISH_STOP_WORDS"
      ],
      "metadata": {
        "id": "jnM7_dWdOGsZ"
      },
      "execution_count": null,
      "outputs": []
    },
    {
      "cell_type": "code",
      "source": [
        "def preprocess_text(text):\n",
        "  text = text.lower()\n",
        "  text = re.sub(r'[^\\w\\s]', '', text)\n",
        "  text = ' '.join([word for word in text.split() if word not in ENGLISH_STOP_WORDS])\n",
        "  return text"
      ],
      "metadata": {
        "id": "l6nhCzAFOHne"
      },
      "execution_count": null,
      "outputs": []
    },
    {
      "cell_type": "code",
      "source": [
        "dummy_text = \"I love to &^%())(#@ eat pizza.\"\n",
        "preprocess_text(dummy_text)"
      ],
      "metadata": {
        "colab": {
          "base_uri": "https://localhost:8080/",
          "height": 36
        },
        "id": "SuPpk8aOOeEP",
        "outputId": "8c52b756-436b-439c-e8d8-886b6f081373"
      },
      "execution_count": null,
      "outputs": [
        {
          "output_type": "execute_result",
          "data": {
            "text/plain": [
              "'love eat pizza'"
            ],
            "application/vnd.google.colaboratory.intrinsic+json": {
              "type": "string"
            }
          },
          "metadata": {},
          "execution_count": 9
        }
      ]
    },
    {
      "cell_type": "code",
      "source": [
        "preprocess_documents=[preprocess_text(doc) for doc in documents]"
      ],
      "metadata": {
        "id": "WTj3F1EqPkAt"
      },
      "execution_count": null,
      "outputs": []
    },
    {
      "cell_type": "code",
      "source": [
        "preprocess_documents"
      ],
      "metadata": {
        "colab": {
          "base_uri": "https://localhost:8080/"
        },
        "id": "Suq-duxIQDw-",
        "outputId": "5ccc430b-6261-43cc-b0d8-b9de8f22b0a9"
      },
      "execution_count": null,
      "outputs": [
        {
          "output_type": "execute_result",
          "data": {
            "text/plain": [
              "['quick brown fox jumps lazy dog',\n",
              " 'apple fell tree',\n",
              " 'love eat pizza',\n",
              " 'cat sitting mat',\n",
              " 'sun shining brightly',\n",
              " 'bird singing beautiful song',\n",
              " 'flower blooming garden',\n",
              " 'book interesting',\n",
              " 'movie scary',\n",
              " 'going beach tomorrow']"
            ]
          },
          "metadata": {},
          "execution_count": 12
        }
      ]
    },
    {
      "cell_type": "markdown",
      "source": [
        "##Countvectorizer (text->numeric)"
      ],
      "metadata": {
        "id": "9L4LjhXzQgCL"
      }
    },
    {
      "cell_type": "code",
      "source": [
        "from sklearn.feature_extraction.text import CountVectorizer\n",
        "\n",
        "vectorizer = CountVectorizer()\n",
        "X = vectorizer.fit_transform(preprocess_documents)"
      ],
      "metadata": {
        "id": "nDtT2A15QH2p"
      },
      "execution_count": 13,
      "outputs": []
    },
    {
      "cell_type": "code",
      "source": [
        "X.todense()"
      ],
      "metadata": {
        "colab": {
          "base_uri": "https://localhost:8080/"
        },
        "id": "uh2hp8Q7VHxK",
        "outputId": "d2d02c00-534f-48b5-cb5c-7e15dd800632"
      },
      "execution_count": 14,
      "outputs": [
        {
          "output_type": "execute_result",
          "data": {
            "text/plain": [
              "matrix([[0, 0, 0, 0, 0, 0, 0, 1, 0, 1, 0, 0, 0, 1, 0, 0, 0, 1, 1, 0, 0,\n",
              "         0, 0, 1, 0, 0, 0, 0, 0, 0, 0, 0],\n",
              "        [1, 0, 0, 0, 0, 0, 0, 0, 0, 0, 0, 1, 0, 0, 0, 0, 0, 0, 0, 0, 0,\n",
              "         0, 0, 0, 0, 0, 0, 0, 0, 0, 0, 1],\n",
              "        [0, 0, 0, 0, 0, 0, 0, 0, 0, 0, 1, 0, 0, 0, 0, 0, 0, 0, 0, 1, 0,\n",
              "         0, 1, 0, 0, 0, 0, 0, 0, 0, 0, 0],\n",
              "        [0, 0, 0, 0, 0, 0, 0, 0, 1, 0, 0, 0, 0, 0, 0, 0, 0, 0, 0, 0, 1,\n",
              "         0, 0, 0, 0, 0, 0, 1, 0, 0, 0, 0],\n",
              "        [0, 0, 0, 0, 0, 0, 1, 0, 0, 0, 0, 0, 0, 0, 0, 0, 0, 0, 0, 0, 0,\n",
              "         0, 0, 0, 0, 1, 0, 0, 0, 1, 0, 0],\n",
              "        [0, 0, 1, 1, 0, 0, 0, 0, 0, 0, 0, 0, 0, 0, 0, 0, 0, 0, 0, 0, 0,\n",
              "         0, 0, 0, 0, 0, 1, 0, 1, 0, 0, 0],\n",
              "        [0, 0, 0, 0, 1, 0, 0, 0, 0, 0, 0, 0, 1, 0, 1, 0, 0, 0, 0, 0, 0,\n",
              "         0, 0, 0, 0, 0, 0, 0, 0, 0, 0, 0],\n",
              "        [0, 0, 0, 0, 0, 1, 0, 0, 0, 0, 0, 0, 0, 0, 0, 0, 1, 0, 0, 0, 0,\n",
              "         0, 0, 0, 0, 0, 0, 0, 0, 0, 0, 0],\n",
              "        [0, 0, 0, 0, 0, 0, 0, 0, 0, 0, 0, 0, 0, 0, 0, 0, 0, 0, 0, 0, 0,\n",
              "         1, 0, 0, 1, 0, 0, 0, 0, 0, 0, 0],\n",
              "        [0, 1, 0, 0, 0, 0, 0, 0, 0, 0, 0, 0, 0, 0, 0, 1, 0, 0, 0, 0, 0,\n",
              "         0, 0, 0, 0, 0, 0, 0, 0, 0, 1, 0]])"
            ]
          },
          "metadata": {},
          "execution_count": 14
        }
      ]
    },
    {
      "cell_type": "markdown",
      "source": [
        "## LDA apply"
      ],
      "metadata": {
        "id": "4Fo-qkM5V3hD"
      }
    },
    {
      "cell_type": "code",
      "source": [
        "from sklearn.decomposition import LatentDirichletAllocation\n",
        "\n",
        "lda = LatentDirichletAllocation(n_components=3, random_state=0)\n",
        "lda.fit(X)"
      ],
      "metadata": {
        "colab": {
          "base_uri": "https://localhost:8080/",
          "height": 74
        },
        "id": "p-zIDWx6Vi7e",
        "outputId": "0a3cb1ad-467d-4e81-d6c4-99a7043401d8"
      },
      "execution_count": 15,
      "outputs": [
        {
          "output_type": "execute_result",
          "data": {
            "text/plain": [
              "LatentDirichletAllocation(n_components=3, random_state=0)"
            ],
            "text/html": [
              "<style>#sk-container-id-1 {color: black;}#sk-container-id-1 pre{padding: 0;}#sk-container-id-1 div.sk-toggleable {background-color: white;}#sk-container-id-1 label.sk-toggleable__label {cursor: pointer;display: block;width: 100%;margin-bottom: 0;padding: 0.3em;box-sizing: border-box;text-align: center;}#sk-container-id-1 label.sk-toggleable__label-arrow:before {content: \"▸\";float: left;margin-right: 0.25em;color: #696969;}#sk-container-id-1 label.sk-toggleable__label-arrow:hover:before {color: black;}#sk-container-id-1 div.sk-estimator:hover label.sk-toggleable__label-arrow:before {color: black;}#sk-container-id-1 div.sk-toggleable__content {max-height: 0;max-width: 0;overflow: hidden;text-align: left;background-color: #f0f8ff;}#sk-container-id-1 div.sk-toggleable__content pre {margin: 0.2em;color: black;border-radius: 0.25em;background-color: #f0f8ff;}#sk-container-id-1 input.sk-toggleable__control:checked~div.sk-toggleable__content {max-height: 200px;max-width: 100%;overflow: auto;}#sk-container-id-1 input.sk-toggleable__control:checked~label.sk-toggleable__label-arrow:before {content: \"▾\";}#sk-container-id-1 div.sk-estimator input.sk-toggleable__control:checked~label.sk-toggleable__label {background-color: #d4ebff;}#sk-container-id-1 div.sk-label input.sk-toggleable__control:checked~label.sk-toggleable__label {background-color: #d4ebff;}#sk-container-id-1 input.sk-hidden--visually {border: 0;clip: rect(1px 1px 1px 1px);clip: rect(1px, 1px, 1px, 1px);height: 1px;margin: -1px;overflow: hidden;padding: 0;position: absolute;width: 1px;}#sk-container-id-1 div.sk-estimator {font-family: monospace;background-color: #f0f8ff;border: 1px dotted black;border-radius: 0.25em;box-sizing: border-box;margin-bottom: 0.5em;}#sk-container-id-1 div.sk-estimator:hover {background-color: #d4ebff;}#sk-container-id-1 div.sk-parallel-item::after {content: \"\";width: 100%;border-bottom: 1px solid gray;flex-grow: 1;}#sk-container-id-1 div.sk-label:hover label.sk-toggleable__label {background-color: #d4ebff;}#sk-container-id-1 div.sk-serial::before {content: \"\";position: absolute;border-left: 1px solid gray;box-sizing: border-box;top: 0;bottom: 0;left: 50%;z-index: 0;}#sk-container-id-1 div.sk-serial {display: flex;flex-direction: column;align-items: center;background-color: white;padding-right: 0.2em;padding-left: 0.2em;position: relative;}#sk-container-id-1 div.sk-item {position: relative;z-index: 1;}#sk-container-id-1 div.sk-parallel {display: flex;align-items: stretch;justify-content: center;background-color: white;position: relative;}#sk-container-id-1 div.sk-item::before, #sk-container-id-1 div.sk-parallel-item::before {content: \"\";position: absolute;border-left: 1px solid gray;box-sizing: border-box;top: 0;bottom: 0;left: 50%;z-index: -1;}#sk-container-id-1 div.sk-parallel-item {display: flex;flex-direction: column;z-index: 1;position: relative;background-color: white;}#sk-container-id-1 div.sk-parallel-item:first-child::after {align-self: flex-end;width: 50%;}#sk-container-id-1 div.sk-parallel-item:last-child::after {align-self: flex-start;width: 50%;}#sk-container-id-1 div.sk-parallel-item:only-child::after {width: 0;}#sk-container-id-1 div.sk-dashed-wrapped {border: 1px dashed gray;margin: 0 0.4em 0.5em 0.4em;box-sizing: border-box;padding-bottom: 0.4em;background-color: white;}#sk-container-id-1 div.sk-label label {font-family: monospace;font-weight: bold;display: inline-block;line-height: 1.2em;}#sk-container-id-1 div.sk-label-container {text-align: center;}#sk-container-id-1 div.sk-container {/* jupyter's `normalize.less` sets `[hidden] { display: none; }` but bootstrap.min.css set `[hidden] { display: none !important; }` so we also need the `!important` here to be able to override the default hidden behavior on the sphinx rendered scikit-learn.org. See: https://github.com/scikit-learn/scikit-learn/issues/21755 */display: inline-block !important;position: relative;}#sk-container-id-1 div.sk-text-repr-fallback {display: none;}</style><div id=\"sk-container-id-1\" class=\"sk-top-container\"><div class=\"sk-text-repr-fallback\"><pre>LatentDirichletAllocation(n_components=3, random_state=0)</pre><b>In a Jupyter environment, please rerun this cell to show the HTML representation or trust the notebook. <br />On GitHub, the HTML representation is unable to render, please try loading this page with nbviewer.org.</b></div><div class=\"sk-container\" hidden><div class=\"sk-item\"><div class=\"sk-estimator sk-toggleable\"><input class=\"sk-toggleable__control sk-hidden--visually\" id=\"sk-estimator-id-1\" type=\"checkbox\" checked><label for=\"sk-estimator-id-1\" class=\"sk-toggleable__label sk-toggleable__label-arrow\">LatentDirichletAllocation</label><div class=\"sk-toggleable__content\"><pre>LatentDirichletAllocation(n_components=3, random_state=0)</pre></div></div></div></div></div>"
            ]
          },
          "metadata": {},
          "execution_count": 15
        }
      ]
    },
    {
      "cell_type": "markdown",
      "source": [
        "## Topics"
      ],
      "metadata": {
        "id": "QrKIsELRhCCW"
      }
    },
    {
      "cell_type": "code",
      "source": [
        "lda.components_"
      ],
      "metadata": {
        "colab": {
          "base_uri": "https://localhost:8080/"
        },
        "id": "Uy_PbnNWgjyI",
        "outputId": "976326c9-0884-4e49-9d1c-98e42bffa8f8"
      },
      "execution_count": 16,
      "outputs": [
        {
          "output_type": "execute_result",
          "data": {
            "text/plain": [
              "array([[1.33204754, 0.33430245, 0.33404849, 0.33404849, 0.33430246,\n",
              "        0.33483133, 0.33430205, 0.33380261, 1.33204755, 0.33380261,\n",
              "        0.33430207, 1.33204754, 0.33430246, 0.33380261, 0.33430246,\n",
              "        0.33430245, 0.33483133, 0.33380261, 0.33380261, 0.33430207,\n",
              "        1.33204755, 1.3313499 , 0.33430207, 0.33380261, 1.3313499 ,\n",
              "        0.33430205, 0.33404849, 1.33204755, 0.33404849, 0.33430205,\n",
              "        0.33430245, 1.33204754],\n",
              "       [0.33397635, 0.33412256, 1.33203567, 1.33203567, 0.33412258,\n",
              "        1.33061727, 1.33157599, 0.33371592, 0.33397634, 0.33371592,\n",
              "        1.33157597, 0.33397635, 0.33412258, 0.33371592, 0.33412258,\n",
              "        0.33412256, 1.33061727, 0.33371592, 0.33371592, 1.33157597,\n",
              "        0.33397634, 0.33432524, 1.33157597, 0.33371592, 0.33432524,\n",
              "        1.33157599, 1.33203567, 0.33397634, 1.33203567, 1.33157599,\n",
              "        0.33412256, 0.33397635],\n",
              "       [0.33397611, 1.33157499, 0.33391583, 0.33391583, 1.33157496,\n",
              "        0.3345514 , 0.33412196, 1.33248148, 0.33397611, 1.33248148,\n",
              "        0.33412196, 0.33397611, 1.33157496, 1.33248148, 1.33157496,\n",
              "        1.33157499, 0.3345514 , 1.33248148, 1.33248148, 0.33412196,\n",
              "        0.33397611, 0.33432487, 0.33412196, 1.33248148, 0.33432487,\n",
              "        0.33412196, 0.33391583, 0.33397611, 0.33391583, 0.33412196,\n",
              "        1.33157499, 0.33397611]])"
            ]
          },
          "metadata": {},
          "execution_count": 16
        }
      ]
    },
    {
      "cell_type": "code",
      "source": [
        "vectorizer.get_feature_names_out()"
      ],
      "metadata": {
        "colab": {
          "base_uri": "https://localhost:8080/"
        },
        "id": "wogpfbXAhJTu",
        "outputId": "96ee4241-4b70-4eaa-b05e-7fbaacfc44e3"
      },
      "execution_count": 19,
      "outputs": [
        {
          "output_type": "execute_result",
          "data": {
            "text/plain": [
              "array(['apple', 'beach', 'beautiful', 'bird', 'blooming', 'book',\n",
              "       'brightly', 'brown', 'cat', 'dog', 'eat', 'fell', 'flower', 'fox',\n",
              "       'garden', 'going', 'interesting', 'jumps', 'lazy', 'love', 'mat',\n",
              "       'movie', 'pizza', 'quick', 'scary', 'shining', 'singing',\n",
              "       'sitting', 'song', 'sun', 'tomorrow', 'tree'], dtype=object)"
            ]
          },
          "metadata": {},
          "execution_count": 19
        }
      ]
    },
    {
      "cell_type": "code",
      "source": [
        "for idx, topic in enumerate(lda.components_):\n",
        "  print(\"Topic\", idx)\n",
        "  print([(vectorizer.get_feature_names_out()[i], topic[i]) for i in topic.argsort()[:-10 - 1:-1]])"
      ],
      "metadata": {
        "colab": {
          "base_uri": "https://localhost:8080/"
        },
        "id": "Bn6Xy66fh9sa",
        "outputId": "4295f77a-4ae8-4b72-87a0-937c5a24e9bf"
      },
      "execution_count": 22,
      "outputs": [
        {
          "output_type": "stream",
          "name": "stdout",
          "text": [
            "Topic 0\n",
            "[('mat', 1.3320475485659407), ('cat', 1.3320475485659407), ('sitting', 1.3320475485659407), ('tree', 1.332047543796087), ('fell', 1.332047543796087), ('apple', 1.332047543796087), ('movie', 1.3313498996464546), ('scary', 1.3313498996464546), ('interesting', 0.33483133012528077), ('book', 0.33483133012528077)]\n",
            "Topic 1\n",
            "[('song', 1.3320356744785036), ('singing', 1.3320356744785036), ('beautiful', 1.3320356744785036), ('bird', 1.3320356744785036), ('sun', 1.3315759901853736), ('brightly', 1.3315759901853736), ('shining', 1.3315759901853736), ('eat', 1.3315759650098073), ('pizza', 1.3315759650098071), ('love', 1.3315759650098071)]\n",
            "Topic 2\n",
            "[('brown', 1.3324814760848773), ('quick', 1.3324814760848773), ('fox', 1.3324814760848773), ('dog', 1.3324814760848773), ('lazy', 1.3324814760848773), ('jumps', 1.3324814760848773), ('going', 1.3315749881020396), ('tomorrow', 1.3315749881020396), ('beach', 1.3315749881020396), ('blooming', 1.3315749555637224)]\n"
          ]
        }
      ]
    }
  ]
}